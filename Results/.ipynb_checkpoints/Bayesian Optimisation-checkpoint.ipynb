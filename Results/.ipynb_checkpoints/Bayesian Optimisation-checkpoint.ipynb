{
 "cells": [
  {
   "cell_type": "markdown",
   "id": "636cd755",
   "metadata": {},
   "source": [
    "This is a brief test of using Gaussian elimination to place turbines.\n",
    "First we begin by importing the relevant parts, and installing pywake."
   ]
  },
  {
   "cell_type": "code",
   "execution_count": 1,
   "id": "1df4ee84",
   "metadata": {
    "scrolled": false
   },
   "outputs": [
    {
     "name": "stdout",
     "output_type": "stream",
     "text": [
      "Requirement already satisfied: py_wake in c:\\users\\tom\\anaconda3\\lib\\site-packages (2.5.0)\n",
      "Requirement already satisfied: autograd in c:\\users\\tom\\anaconda3\\lib\\site-packages (from py_wake) (1.5)\n",
      "Requirement already satisfied: tqdm in c:\\users\\tom\\anaconda3\\lib\\site-packages (from py_wake) (4.64.0)\n",
      "Requirement already satisfied: h5netcdf in c:\\users\\tom\\anaconda3\\lib\\site-packages (from py_wake) (1.1.0)\n",
      "Requirement already satisfied: netcdf4 in c:\\users\\tom\\anaconda3\\lib\\site-packages (from py_wake) (1.6.3)\n",
      "Requirement already satisfied: matplotlib in c:\\users\\tom\\anaconda3\\lib\\site-packages (from py_wake) (3.5.1)\n",
      "Requirement already satisfied: numpy in c:\\users\\tom\\anaconda3\\lib\\site-packages (from py_wake) (1.21.5)\n",
      "Requirement already satisfied: scipy in c:\\users\\tom\\anaconda3\\lib\\site-packages (from py_wake) (1.7.3)\n",
      "Requirement already satisfied: xarray in c:\\users\\tom\\anaconda3\\lib\\site-packages (from py_wake) (0.20.1)\n",
      "Requirement already satisfied: pyyaml in c:\\users\\tom\\anaconda3\\lib\\site-packages (from py_wake) (6.0)\n",
      "Requirement already satisfied: future>=0.15.2 in c:\\users\\tom\\anaconda3\\lib\\site-packages (from autograd->py_wake) (0.18.2)\n",
      "Requirement already satisfied: h5py in c:\\users\\tom\\anaconda3\\lib\\site-packages (from h5netcdf->py_wake) (3.6.0)\n",
      "Requirement already satisfied: packaging in c:\\users\\tom\\anaconda3\\lib\\site-packages (from h5netcdf->py_wake) (21.3)\n",
      "Requirement already satisfied: kiwisolver>=1.0.1 in c:\\users\\tom\\anaconda3\\lib\\site-packages (from matplotlib->py_wake) (1.3.2)\n",
      "Requirement already satisfied: cycler>=0.10 in c:\\users\\tom\\anaconda3\\lib\\site-packages (from matplotlib->py_wake) (0.11.0)\n",
      "Requirement already satisfied: python-dateutil>=2.7 in c:\\users\\tom\\anaconda3\\lib\\site-packages (from matplotlib->py_wake) (2.8.2)\n",
      "Requirement already satisfied: pyparsing>=2.2.1 in c:\\users\\tom\\anaconda3\\lib\\site-packages (from matplotlib->py_wake) (3.0.4)\n",
      "Requirement already satisfied: fonttools>=4.22.0 in c:\\users\\tom\\anaconda3\\lib\\site-packages (from matplotlib->py_wake) (4.25.0)\n",
      "Requirement already satisfied: pillow>=6.2.0 in c:\\users\\tom\\anaconda3\\lib\\site-packages (from matplotlib->py_wake) (9.0.1)\n",
      "Requirement already satisfied: six>=1.5 in c:\\users\\tom\\anaconda3\\lib\\site-packages (from python-dateutil>=2.7->matplotlib->py_wake) (1.16.0)\n",
      "Requirement already satisfied: cftime in c:\\users\\tom\\anaconda3\\lib\\site-packages (from netcdf4->py_wake) (1.6.2)\n",
      "Requirement already satisfied: colorama in c:\\users\\tom\\anaconda3\\lib\\site-packages (from tqdm->py_wake) (0.4.4)\n",
      "Requirement already satisfied: pandas>=1.1 in c:\\users\\tom\\anaconda3\\lib\\site-packages (from xarray->py_wake) (1.4.2)\n",
      "Requirement already satisfied: pytz>=2020.1 in c:\\users\\tom\\anaconda3\\lib\\site-packages (from pandas>=1.1->xarray->py_wake) (2021.3)\n",
      "Note: you may need to restart the kernel to use updated packages.\n"
     ]
    }
   ],
   "source": [
    "%pip install py_wake"
   ]
  },
  {
   "cell_type": "code",
   "execution_count": 2,
   "id": "ae13eb03",
   "metadata": {},
   "outputs": [],
   "source": [
    "#Import pywake parts\n",
    "import py_wake\n",
    "from py_wake.site import UniformWeibullSite, UniformSite\n",
    "from py_wake.examples.data.iea37 import IEA37_WindTurbines\n",
    "from py_wake import NOJ\n",
    "#Import numpy\n",
    "import numpy\n",
    "#From scikit learn, import Gaussian Progression\n",
    "from sklearn import gaussian_process\n",
    "from scipy.stats import norm"
   ]
  },
  {
   "cell_type": "markdown",
   "id": "e9e9d8c7",
   "metadata": {},
   "source": [
    "Now that this is done, we can begin defining the wind farm information. We also create some functions for managing them. Most of these are copies from the original genetic algorithm program, bar a few changes."
   ]
  },
  {
   "cell_type": "code",
   "execution_count": 3,
   "id": "a6a91461",
   "metadata": {},
   "outputs": [],
   "source": [
    "def setup_site():\n",
    "    #Choose the turbine\n",
    "    wind_turbines = IEA37_WindTurbines()\n",
    "    #Setup the site\n",
    "    site = UniformWeibullSite(p_wd = [1], a = [9.8], k = [2], ti = 0.1)\n",
    "    #Noj is our deficit model. We load it with the site and turbine type\n",
    "    noj = NOJ(site,wind_turbines)\n",
    "    return noj\n",
    "\n",
    "def divide_range(start, end, precision):\n",
    "    \"\"\" Divide a range of points from start to finish based on the given precision \"\"\"\n",
    "    point_list = []\n",
    "    step = (end - start)/precision\n",
    "    for i in range(precision):\n",
    "        point_list.append(start + (step * i))\n",
    "    return point_list\n",
    "\n",
    "def create_grid_ranges(x_start, x_end, y_start, y_end, precision):\n",
    "    \"\"\" Create a grid from inputted ranges \"\"\"\n",
    "    grid_ranges = []\n",
    "    x_list = divide_range(x_start, x_end, precision)\n",
    "    y_list = divide_range(y_start, y_end, precision)\n",
    "    for y_val in y_list:\n",
    "        for x_val in x_list:\n",
    "            grid_ranges.append([y_val, x_val])\n",
    "    return grid_ranges\n",
    "\n",
    "def get_turbine_locations(input_list, grid):\n",
    "    \"\"\" Get turbine positions based on their position in the list and the grid \"\"\"\n",
    "    x_positions = []\n",
    "    y_positions = []\n",
    "    for index in input_list:\n",
    "        y_positions.append(grid[index][0])\n",
    "        x_positions.append(grid[index][1])\n",
    "    return x_positions, y_positions\n",
    "\n",
    "#Set up the site\n",
    "SITE_CONFIG = setup_site()\n",
    "SITE_POSITIONS = create_grid_ranges(0, 1000, 0, 1000, 100)"
   ]
  },
  {
   "cell_type": "markdown",
   "id": "3fa47de6",
   "metadata": {},
   "source": [
    "Now that the site is set up, we need to create functions to implement Bayesian Optimisation. In this case, we attempt to optimise the placement of each individual turbine sequentially."
   ]
  },
  {
   "cell_type": "code",
   "execution_count": 4,
   "id": "b8e42b90",
   "metadata": {},
   "outputs": [],
   "source": [
    "#Create an objective function\n",
    "def objective_function(turbine_list, new_turbine):\n",
    "    current_list = turbine_list.copy() #Copy the list of turbines\n",
    "    if new_turbine in current_list: #If the turbine would be in the same place as a previous one, return 0\n",
    "        return 0\n",
    "    else:\n",
    "        current_list.append(new_turbine) #Add the new turbine to the layout\n",
    "        position_lists = get_turbine_locations(current_list, SITE_POSITIONS) #Get the positions of each turbine\n",
    "        result = SITE_CONFIG(position_lists[0], position_lists[1]) #Get the result\n",
    "        return float(result.aep().sum()) #Return the AEP\n",
    "    \n",
    "def surrogate(model, X):\n",
    "    return model.predict(X, return_std = True) #Return a prediction of X with the standard deviation based on the inputted model\n",
    "\n",
    "def opt_acquisition(X, Y, model): #Optimise the acquisition functoin\n",
    "    Xsamples = numpy.arange(0, len(SITE_POSITIONS), 10) #Create X valuse to sample with\n",
    "    Xsamples = Xsamples.reshape(len(Xsamples), 1) #Reshape the samples\n",
    "    scores = acquisition(X, Xsamples, model) #Get the score based on the acquisition function\n",
    "    index = numpy.argmax(scores) #Get the index of the best score\n",
    "    return Xsamples[index, 0] #Return the index of the best sampled score\n",
    "\n",
    "def acquisition(X, Xsamples, model): #Acquisition function\n",
    "    yhat, _ = surrogate(model, X) #Find the best surrogate score\n",
    "    best = max(yhat)\n",
    "    mu, std = surrogate(model, Xsamples) #Get the mean and standard deviation\n",
    "    mu = mu[0]\n",
    "    #Calculate the improvement probability. This is the probabilistic acquisition function\n",
    "    probs = norm.cdf((mu - best)/(std+1E-9))\n",
    "    return probs"
   ]
  },
  {
   "cell_type": "markdown",
   "id": "fc600775",
   "metadata": {},
   "source": [
    "Now that this is done, we begin constructing the layout of turbines."
   ]
  },
  {
   "cell_type": "code",
   "execution_count": 7,
   "id": "42646797",
   "metadata": {},
   "outputs": [],
   "source": [
    "turbine_array = []\n",
    "for i in range(16):\n",
    "    #Create a range of X and Y values\n",
    "    X = numpy.arange(0, len(SITE_POSITIONS), 10)\n",
    "    Y = numpy.asarray([objective_function(turbine_array, x) for x in X])\n",
    "    #Reshape them for use\n",
    "    X = X.reshape(len(X),1)\n",
    "    Y = Y.reshape(len(Y),1)\n",
    "    #Fit the model\n",
    "    model = gaussian_process.GaussianProcessRegressor()\n",
    "    model.fit(X,Y)\n",
    "    #Retrain the model\n",
    "    for i in range(20):\n",
    "        x = opt_acquisition(X, Y, model)\n",
    "        actual = objective_function(turbine_array, x)\n",
    "        est, _ = surrogate(model, [[x]])\n",
    "        X = numpy.vstack((X, [[x]]))\n",
    "        Y = numpy.vstack((Y, [[actual]]))\n",
    "        model.fit(X,Y)\n",
    "    #Finally, get the best result\n",
    "    ix = numpy.argmax(Y)\n",
    "    #Append it to the turbine array\n",
    "    turbine_array.append(int(X[ix]))"
   ]
  },
  {
   "cell_type": "markdown",
   "id": "f85382af",
   "metadata": {},
   "source": [
    "After running, we have produced a layout that may be evaluated."
   ]
  },
  {
   "cell_type": "code",
   "execution_count": 8,
   "id": "5ce920fb",
   "metadata": {},
   "outputs": [
    {
     "name": "stdout",
     "output_type": "stream",
     "text": [
      "[0, 9990, 90, 9900, 4950, 5100, 5190, 40, 9940, 2490, 2500, 7690, 7500, 60, 9960, 20]\n",
      "174.52658682031006\n"
     ]
    }
   ],
   "source": [
    "print(turbine_array) #Print the positions\n",
    "position_lists = get_turbine_locations(turbine_array, SITE_POSITIONS)\n",
    "result = SITE_CONFIG(position_lists[0], position_lists[1])\n",
    "print(float(result.aep().sum()))"
   ]
  },
  {
   "cell_type": "code",
   "execution_count": null,
   "id": "ae99f949",
   "metadata": {},
   "outputs": [],
   "source": []
  }
 ],
 "metadata": {
  "kernelspec": {
   "display_name": "Python 3 (ipykernel)",
   "language": "python",
   "name": "python3"
  },
  "language_info": {
   "codemirror_mode": {
    "name": "ipython",
    "version": 3
   },
   "file_extension": ".py",
   "mimetype": "text/x-python",
   "name": "python",
   "nbconvert_exporter": "python",
   "pygments_lexer": "ipython3",
   "version": "3.9.12"
  }
 },
 "nbformat": 4,
 "nbformat_minor": 5
}
